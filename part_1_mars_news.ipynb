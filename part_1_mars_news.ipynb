{
 "cells": [
  {
   "cell_type": "markdown",
   "metadata": {},
   "source": [
    "# Module 12 Challenge\n",
    "## Deliverable 1: Scrape Titles and Preview Text from Mars News"
   ]
  },
  {
   "cell_type": "code",
   "execution_count": 1,
   "metadata": {},
   "outputs": [],
   "source": [
    "# Import Splinter and BeautifulSoup\n",
    "from splinter import Browser\n",
    "from bs4 import BeautifulSoup as bs\n",
    "from webdriver_manager.chrome import ChromeDriverManager\n",
    "import requests\n"
   ]
  },
  {
   "cell_type": "code",
   "execution_count": 2,
   "metadata": {
    "scrolled": true
   },
   "outputs": [
    {
     "name": "stderr",
     "output_type": "stream",
     "text": [
      "[WDM] - Downloading: 100%|███████████████████████████████████████████████████████████████| 6.79M/6.79M [00:01<00:00, 4.12MB/s]\n"
     ]
    }
   ],
   "source": [
    "executable_path = {'executable_path': ChromeDriverManager().install()}\n",
    "browser = Browser('chrome', **executable_path, headless=False)"
   ]
  },
  {
   "cell_type": "markdown",
   "metadata": {},
   "source": [
    "### Step 1: Visit the Website\n",
    "\n",
    "1. Use automated browsing to visit the [Mars NASA news site](https://redplanetscience.com). Inspect the page to identify which elements to scrape.\n",
    "\n",
    "      > **Hint** To identify which elements to scrape, you might want to inspect the page by using Chrome DevTools."
   ]
  },
  {
   "cell_type": "code",
   "execution_count": 3,
   "metadata": {},
   "outputs": [],
   "source": [
    "# Visit the Mars NASA news site: https://redplanetscience.com\n",
    "url = \"https://redplanetscience.com\"\n",
    "\n",
    "# Retrieve page with the requests module\n",
    "#response = requests.get(url)\n",
    "browser.visit(url)"
   ]
  },
  {
   "cell_type": "markdown",
   "metadata": {},
   "source": [
    "### Step 2: Scrape the Website\n",
    "\n",
    "Create a Beautiful Soup object and use it to extract text elements from the website."
   ]
  },
  {
   "cell_type": "code",
   "execution_count": 4,
   "metadata": {},
   "outputs": [],
   "source": [
    "# Create a Beautiful Soup object\n",
    "html=browser.html\n",
    "soup = bs(html, 'html.parser')\n",
    "\n",
    "#soup"
   ]
  },
  {
   "cell_type": "code",
   "execution_count": 8,
   "metadata": {},
   "outputs": [
    {
     "data": {
      "text/plain": [
       "[<div class=\"list_text\">\n",
       " <div class=\"list_date\">February 1, 2023</div>\n",
       " <div class=\"content_title\">6 Things to Know About NASA's Ingenuity Mars Helicopter</div>\n",
       " <div class=\"article_teaser_body\">The first helicopter attempting to fly on another planet is a marvel of engineering. Get up to speed with these key facts about its plans.</div>\n",
       " </div>,\n",
       " <div class=\"list_text\">\n",
       " <div class=\"list_date\">January 31, 2023</div>\n",
       " <div class=\"content_title\">The Extraordinary Sample-Gathering System of NASA's Perseverance Mars Rover</div>\n",
       " <div class=\"article_teaser_body\">Two astronauts collected Moon rocks on Apollo 11. It will take three robotic systems working together to gather up the first Mars rock samples for return to Earth.</div>\n",
       " </div>,\n",
       " <div class=\"list_text\">\n",
       " <div class=\"list_date\">January 23, 2023</div>\n",
       " <div class=\"content_title\">NASA's Perseverance Rover Goes Through Trials by Fire, Ice, Light and Sound</div>\n",
       " <div class=\"article_teaser_body\">The agency's new Mars rover is put through a series of tests in vacuum chambers, acoustic chambers and more to get ready for the Red Planet.</div>\n",
       " </div>,\n",
       " <div class=\"list_text\">\n",
       " <div class=\"list_date\">January 22, 2023</div>\n",
       " <div class=\"content_title\">Two of a Space Kind: Apollo 12 and Mars 2020</div>\n",
       " <div class=\"article_teaser_body\">Apollo 12 and the upcoming Mars 2020 mission may be separated by half a century, but they share several goals unique in the annals of space exploration.</div>\n",
       " </div>,\n",
       " <div class=\"list_text\">\n",
       " <div class=\"list_date\">January 21, 2023</div>\n",
       " <div class=\"content_title\">Heat and Dust Help Launch Martian Water Into Space, Scientists Find</div>\n",
       " <div class=\"article_teaser_body\">Scientists using an instrument aboard NASA’s Mars Atmosphere and Volatile EvolutioN, or MAVEN, spacecraft have discovered that water vapor near the surface of the Red Planet is lofted higher into the atmosphere than anyone expected was possible. </div>\n",
       " </div>,\n",
       " <div class=\"list_text\">\n",
       " <div class=\"list_date\">January 14, 2023</div>\n",
       " <div class=\"content_title\">With Mars Methane Mystery Unsolved, Curiosity Serves Scientists a New One: Oxygen</div>\n",
       " <div class=\"article_teaser_body\">For the first time in the history of space exploration, scientists have measured the seasonal changes in the gases that fill the air directly above the surface of Gale Crater on Mars. </div>\n",
       " </div>,\n",
       " <div class=\"list_text\">\n",
       " <div class=\"list_date\">January 14, 2023</div>\n",
       " <div class=\"content_title\">8 Martian Postcards to Celebrate Curiosity's Landing Anniversary</div>\n",
       " <div class=\"article_teaser_body\">The NASA rover touched down eight years ago, on Aug. 5, 2012, and will soon be joined by a second rover, Perseverance.</div>\n",
       " </div>,\n",
       " <div class=\"list_text\">\n",
       " <div class=\"list_date\">January 13, 2023</div>\n",
       " <div class=\"content_title\">NASA's Mars Perseverance Rover Passes Flight Readiness Review</div>\n",
       " <div class=\"article_teaser_body\">​The agency's Mars 2020 mission has one more big prelaunch review – the Launch Readiness Review, on July 27.</div>\n",
       " </div>,\n",
       " <div class=\"list_text\">\n",
       " <div class=\"list_date\">January 11, 2023</div>\n",
       " <div class=\"content_title\">A New Video Captures the Science of NASA's Perseverance Mars Rover</div>\n",
       " <div class=\"article_teaser_body\">With a targeted launch date of July 30, the next robotic scientist NASA is sending to the to the Red Planet has big ambitions.</div>\n",
       " </div>,\n",
       " <div class=\"list_text\">\n",
       " <div class=\"list_date\">January 11, 2023</div>\n",
       " <div class=\"content_title\">Nine Finalists Chosen in NASA's Mars 2020 Rover Naming Contest</div>\n",
       " <div class=\"article_teaser_body\">Nine finalists have been chosen in the essay contest for K-12 students across U.S. to name NASA's next Mars rover. Now you can help by voting for your favorite. </div>\n",
       " </div>,\n",
       " <div class=\"list_text\">\n",
       " <div class=\"list_date\">January 8, 2023</div>\n",
       " <div class=\"content_title\">NASA to Reveal Name of Its Next Mars Rover</div>\n",
       " <div class=\"article_teaser_body\">After a months-long contest among students to name NASA's newest Mars rover, the agency will reveal the winning name — and the winning student — this Thursday. </div>\n",
       " </div>,\n",
       " <div class=\"list_text\">\n",
       " <div class=\"list_date\">January 3, 2023</div>\n",
       " <div class=\"content_title\">The MarCO Mission Comes to an End</div>\n",
       " <div class=\"article_teaser_body\">The pair of briefcase-sized satellites made history when they sailed past Mars in 2019.</div>\n",
       " </div>,\n",
       " <div class=\"list_text\">\n",
       " <div class=\"list_date\">January 2, 2023</div>\n",
       " <div class=\"content_title\">NASA Wins Two Emmy Awards for Interactive Mission Coverage</div>\n",
       " <div class=\"article_teaser_body\">NASA-JPL's coverage of the Mars InSight landing earns one of the two wins, making this the NASA center's second Emmy.</div>\n",
       " </div>,\n",
       " <div class=\"list_text\">\n",
       " <div class=\"list_date\">January 2, 2023</div>\n",
       " <div class=\"content_title\">NASA's Curiosity Takes Selfie With 'Mary Anning' on the Red Planet</div>\n",
       " <div class=\"article_teaser_body\">The Mars rover has drilled three samples of rock in this clay-enriched region since arriving in July.</div>\n",
       " </div>,\n",
       " <div class=\"list_text\">\n",
       " <div class=\"list_date\">January 1, 2023</div>\n",
       " <div class=\"content_title\">NASA's Perseverance Rover Will Peer Beneath Mars' Surface </div>\n",
       " <div class=\"article_teaser_body\">The agency's newest rover will use the first ground-penetrating radar instrument on the Martian surface to help search for signs of past microbial life. </div>\n",
       " </div>]"
      ]
     },
     "execution_count": 8,
     "metadata": {},
     "output_type": "execute_result"
    }
   ],
   "source": [
    "# Extract all the text elements\n",
    "page_title = soup.title.text.strip()\n",
    "page_body = soup.find_all(\"div\", class_=\"list_text\")\n",
    "\n",
    "page_body"
   ]
  },
  {
   "cell_type": "markdown",
   "metadata": {},
   "source": [
    "### Step 3: Store the Results\n",
    "\n",
    "Extract the titles and preview text of the news articles that you scraped. Store the scraping results in Python data structures as follows:\n",
    "\n",
    "* Store each title-and-preview pair in a Python dictionary. And, give each dictionary two keys: `title` and `preview`. An example is the following:\n",
    "\n",
    "  ```python\n",
    "  {'title': \"Mars Rover Begins Mission!\", \n",
    "        'preview': \"NASA's Mars Rover begins a multiyear mission to collect data about the little-explored planet.\"}\n",
    "  ```\n",
    "\n",
    "* Store all the dictionaries in a Python list.\n",
    "\n",
    "* Print the list in your notebook."
   ]
  },
  {
   "cell_type": "code",
   "execution_count": 9,
   "metadata": {},
   "outputs": [],
   "source": [
    "#content_title = page_body.find_all(\"div\", class_=\"content_title\")\n",
    "content_title = soup.find_all(\"div\", class_=\"content_title\")\n",
    "teaser_body = soup.find_all(\"div\", class_=\"article_teaser_body\")"
   ]
  },
  {
   "cell_type": "code",
   "execution_count": 10,
   "metadata": {},
   "outputs": [
    {
     "data": {
      "text/plain": [
       "\"NASA's Perseverance Rover Will Peer Beneath Mars' Surface \""
      ]
     },
     "execution_count": 10,
     "metadata": {},
     "output_type": "execute_result"
    }
   ],
   "source": [
    "for item in content_title:\n",
    "    ct_strip = item.text\n",
    "ct_strip"
   ]
  },
  {
   "cell_type": "code",
   "execution_count": 11,
   "metadata": {},
   "outputs": [
    {
     "data": {
      "text/plain": [
       "[{'title': \"\\nFebruary 1, 2023\\n6 Things to Know About NASA's Ingenuity Mars Helicopter\\nThe first helicopter attempting to fly on another planet is a marvel of engineering. Get up to speed with these key facts about its plans.\\n\",\n",
       "  'atb': \"\\nFebruary 1, 2023\\n6 Things to Know About NASA's Ingenuity Mars Helicopter\\nThe first helicopter attempting to fly on another planet is a marvel of engineering. Get up to speed with these key facts about its plans.\\n\"},\n",
       " {'title': \"\\nJanuary 31, 2023\\nThe Extraordinary Sample-Gathering System of NASA's Perseverance Mars Rover\\nTwo astronauts collected Moon rocks on Apollo 11. It will take three robotic systems working together to gather up the first Mars rock samples for return to Earth.\\n\",\n",
       "  'atb': \"\\nJanuary 31, 2023\\nThe Extraordinary Sample-Gathering System of NASA's Perseverance Mars Rover\\nTwo astronauts collected Moon rocks on Apollo 11. It will take three robotic systems working together to gather up the first Mars rock samples for return to Earth.\\n\"},\n",
       " {'title': \"\\nJanuary 23, 2023\\nNASA's Perseverance Rover Goes Through Trials by Fire, Ice, Light and Sound\\nThe agency's new Mars rover is put through a series of tests in vacuum chambers, acoustic chambers and more to get ready for the Red Planet.\\n\",\n",
       "  'atb': \"\\nJanuary 23, 2023\\nNASA's Perseverance Rover Goes Through Trials by Fire, Ice, Light and Sound\\nThe agency's new Mars rover is put through a series of tests in vacuum chambers, acoustic chambers and more to get ready for the Red Planet.\\n\"},\n",
       " {'title': '\\nJanuary 22, 2023\\nTwo of a Space Kind: Apollo 12 and Mars 2020\\nApollo 12 and the upcoming Mars 2020 mission may be separated by half a century, but they share several goals unique in the annals of space exploration.\\n',\n",
       "  'atb': '\\nJanuary 22, 2023\\nTwo of a Space Kind: Apollo 12 and Mars 2020\\nApollo 12 and the upcoming Mars 2020 mission may be separated by half a century, but they share several goals unique in the annals of space exploration.\\n'},\n",
       " {'title': '\\nJanuary 21, 2023\\nHeat and Dust Help Launch Martian Water Into Space, Scientists Find\\nScientists using an instrument aboard NASA’s Mars Atmosphere and Volatile EvolutioN, or MAVEN, spacecraft have discovered that water vapor near the surface of the Red Planet is lofted higher into the atmosphere than anyone expected was possible. \\n',\n",
       "  'atb': '\\nJanuary 21, 2023\\nHeat and Dust Help Launch Martian Water Into Space, Scientists Find\\nScientists using an instrument aboard NASA’s Mars Atmosphere and Volatile EvolutioN, or MAVEN, spacecraft have discovered that water vapor near the surface of the Red Planet is lofted higher into the atmosphere than anyone expected was possible. \\n'},\n",
       " {'title': '\\nJanuary 14, 2023\\nWith Mars Methane Mystery Unsolved, Curiosity Serves Scientists a New One: Oxygen\\nFor the first time in the history of space exploration, scientists have measured the seasonal changes in the gases that fill the air directly above the surface of Gale Crater on Mars. \\n',\n",
       "  'atb': '\\nJanuary 14, 2023\\nWith Mars Methane Mystery Unsolved, Curiosity Serves Scientists a New One: Oxygen\\nFor the first time in the history of space exploration, scientists have measured the seasonal changes in the gases that fill the air directly above the surface of Gale Crater on Mars. \\n'},\n",
       " {'title': \"\\nJanuary 14, 2023\\n8 Martian Postcards to Celebrate Curiosity's Landing Anniversary\\nThe NASA rover touched down eight years ago, on Aug. 5, 2012, and will soon be joined by a second rover, Perseverance.\\n\",\n",
       "  'atb': \"\\nJanuary 14, 2023\\n8 Martian Postcards to Celebrate Curiosity's Landing Anniversary\\nThe NASA rover touched down eight years ago, on Aug. 5, 2012, and will soon be joined by a second rover, Perseverance.\\n\"},\n",
       " {'title': \"\\nJanuary 13, 2023\\nNASA's Mars Perseverance Rover Passes Flight Readiness Review\\n\\u200bThe agency's Mars 2020 mission has one more big prelaunch review – the Launch Readiness Review, on July 27.\\n\",\n",
       "  'atb': \"\\nJanuary 13, 2023\\nNASA's Mars Perseverance Rover Passes Flight Readiness Review\\n\\u200bThe agency's Mars 2020 mission has one more big prelaunch review – the Launch Readiness Review, on July 27.\\n\"},\n",
       " {'title': \"\\nJanuary 11, 2023\\nA New Video Captures the Science of NASA's Perseverance Mars Rover\\nWith a targeted launch date of July 30, the next robotic scientist NASA is sending to the to the Red Planet has big ambitions.\\n\",\n",
       "  'atb': \"\\nJanuary 11, 2023\\nA New Video Captures the Science of NASA's Perseverance Mars Rover\\nWith a targeted launch date of July 30, the next robotic scientist NASA is sending to the to the Red Planet has big ambitions.\\n\"},\n",
       " {'title': \"\\nJanuary 11, 2023\\nNine Finalists Chosen in NASA's Mars 2020 Rover Naming Contest\\nNine finalists have been chosen in the essay contest for K-12 students across U.S. to name NASA's next Mars rover. Now you can help by voting for your favorite. \\n\",\n",
       "  'atb': \"\\nJanuary 11, 2023\\nNine Finalists Chosen in NASA's Mars 2020 Rover Naming Contest\\nNine finalists have been chosen in the essay contest for K-12 students across U.S. to name NASA's next Mars rover. Now you can help by voting for your favorite. \\n\"},\n",
       " {'title': \"\\nJanuary 8, 2023\\nNASA to Reveal Name of Its Next Mars Rover\\nAfter a months-long contest among students to name NASA's newest Mars rover, the agency will reveal the winning name — and the winning student — this Thursday. \\n\",\n",
       "  'atb': \"\\nJanuary 8, 2023\\nNASA to Reveal Name of Its Next Mars Rover\\nAfter a months-long contest among students to name NASA's newest Mars rover, the agency will reveal the winning name — and the winning student — this Thursday. \\n\"},\n",
       " {'title': '\\nJanuary 3, 2023\\nThe MarCO Mission Comes to an End\\nThe pair of briefcase-sized satellites made history when they sailed past Mars in 2019.\\n',\n",
       "  'atb': '\\nJanuary 3, 2023\\nThe MarCO Mission Comes to an End\\nThe pair of briefcase-sized satellites made history when they sailed past Mars in 2019.\\n'},\n",
       " {'title': \"\\nJanuary 2, 2023\\nNASA Wins Two Emmy Awards for Interactive Mission Coverage\\nNASA-JPL's coverage of the Mars InSight landing earns one of the two wins, making this the NASA center's second Emmy.\\n\",\n",
       "  'atb': \"\\nJanuary 2, 2023\\nNASA Wins Two Emmy Awards for Interactive Mission Coverage\\nNASA-JPL's coverage of the Mars InSight landing earns one of the two wins, making this the NASA center's second Emmy.\\n\"},\n",
       " {'title': \"\\nJanuary 2, 2023\\nNASA's Curiosity Takes Selfie With 'Mary Anning' on the Red Planet\\nThe Mars rover has drilled three samples of rock in this clay-enriched region since arriving in July.\\n\",\n",
       "  'atb': \"\\nJanuary 2, 2023\\nNASA's Curiosity Takes Selfie With 'Mary Anning' on the Red Planet\\nThe Mars rover has drilled three samples of rock in this clay-enriched region since arriving in July.\\n\"},\n",
       " {'title': \"\\nJanuary 1, 2023\\nNASA's Perseverance Rover Will Peer Beneath Mars' Surface \\nThe agency's newest rover will use the first ground-penetrating radar instrument on the Martian surface to help search for signs of past microbial life. \\n\",\n",
       "  'atb': \"\\nJanuary 1, 2023\\nNASA's Perseverance Rover Will Peer Beneath Mars' Surface \\nThe agency's newest rover will use the first ground-penetrating radar instrument on the Martian surface to help search for signs of past microbial life. \\n\"}]"
      ]
     },
     "execution_count": 11,
     "metadata": {},
     "output_type": "execute_result"
    }
   ],
   "source": [
    "# Create an empty list to store the dictionaries\n",
    "\n",
    "new_list = []\n",
    "# Loop through the text elements\n",
    "for head_lines in page_body:\n",
    "    \n",
    "    # Extract the title and preview text from the elements\n",
    "    content_title = head_lines.find(\"div\", class_=\"content_title\")\n",
    "    ct_strip = head_lines.text\n",
    "    teaser_body = head_lines.find(\"div\", class_=\"article_teaser_body\")\n",
    "    tb_strip = head_lines.text\n",
    "    \n",
    "    \n",
    "    # Store each title and preview pair in a dictionary\n",
    "    new_dict = {}\n",
    "    new_dict[\"title\"] = ct_strip\n",
    "    new_dict[\"atb\"] = tb_strip  \n",
    "\n",
    "# Add the dictionary to the list\n",
    "    new_list.append(new_dict)\n",
    "    \n",
    "# Print the list to confirm success\n",
    "\n",
    "new_list"
   ]
  },
  {
   "cell_type": "code",
   "execution_count": 12,
   "metadata": {},
   "outputs": [],
   "source": [
    "browser.quit()"
   ]
  },
  {
   "cell_type": "markdown",
   "metadata": {},
   "source": [
    "### (Optional) Step 4: Export the Data\n",
    "\n",
    "Optionally, store the scraped data in a file or database (to ease sharing the data with others). To do so, export the scraped data to either a JSON file or a MongoDB database."
   ]
  },
  {
   "cell_type": "code",
   "execution_count": 10,
   "metadata": {},
   "outputs": [],
   "source": [
    "# Export data to JSON\n"
   ]
  },
  {
   "cell_type": "code",
   "execution_count": null,
   "metadata": {},
   "outputs": [],
   "source": [
    "\n",
    "\n"
   ]
  }
 ],
 "metadata": {
  "kernelspec": {
   "display_name": "Python 3 (ipykernel)",
   "language": "python",
   "name": "python3"
  },
  "language_info": {
   "codemirror_mode": {
    "name": "ipython",
    "version": 3
   },
   "file_extension": ".py",
   "mimetype": "text/x-python",
   "name": "python",
   "nbconvert_exporter": "python",
   "pygments_lexer": "ipython3",
   "version": "3.9.12"
  }
 },
 "nbformat": 4,
 "nbformat_minor": 4
}
